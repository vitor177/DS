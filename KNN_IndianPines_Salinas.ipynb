{
  "nbformat": 4,
  "nbformat_minor": 0,
  "metadata": {
    "colab": {
      "name": "KNN_IndianPines_Salinas.ipynb",
      "provenance": [],
      "authorship_tag": "ABX9TyPpmLIgSptRdK97U7shDO4b",
      "include_colab_link": true
    },
    "kernelspec": {
      "name": "python3",
      "display_name": "Python 3"
    },
    "language_info": {
      "name": "python"
    },
    "accelerator": "GPU"
  },
  "cells": [
    {
      "cell_type": "markdown",
      "metadata": {
        "id": "view-in-github",
        "colab_type": "text"
      },
      "source": [
        "<a href=\"https://colab.research.google.com/github/vitor177/DS/blob/main/KNN_IndianPines_Salinas.ipynb\" target=\"_parent\"><img src=\"https://colab.research.google.com/assets/colab-badge.svg\" alt=\"Open In Colab\"/></a>"
      ]
    },
    {
      "cell_type": "code",
      "metadata": {
        "id": "qAtoZMahOeKd"
      },
      "source": [
        "import matplotlib.pyplot as plt\n",
        "import numpy as np\n",
        "from scipy.io import loadmat\n",
        "import pandas as pd\n",
        "\n",
        "from sklearn.preprocessing import minmax_scale\n",
        "from sklearn.model_selection import train_test_split\n",
        "from sklearn.metrics import (accuracy_score,confusion_matrix, classification_report)\n",
        "\n",
        "from sklearn.neighbors import KNeighborsClassifier\n",
        "from sklearn.metrics import accuracy_score\n",
        "\n",
        "from numpy.random import seed\n",
        "from time import time\n",
        "\n",
        "seed(23)"
      ],
      "execution_count": null,
      "outputs": []
    },
    {
      "cell_type": "code",
      "metadata": {
        "id": "sZ1KUNyJzhtZ"
      },
      "source": [
        "# Set op = 1 Indian Pines\n",
        "# Set op = 2 Salinas\n",
        "# Set op = 3 Pavia\n",
        "# Set op = 4 Pavia University\n",
        "op = 2"
      ],
      "execution_count": null,
      "outputs": []
    },
    {
      "cell_type": "code",
      "metadata": {
        "id": "SZG06fhBNC_B",
        "colab": {
          "base_uri": "https://localhost:8080/"
        },
        "outputId": "93b496e0-c9ab-4b8d-e294-e330a2d402c6"
      },
      "source": [
        "## Biblioteca loadmat - arquivos .mat\n",
        "from scipy.io import loadmat\n",
        "\n",
        "def load_dataset(op):\n",
        "  if op == 1:\n",
        "    !wget http://www.ehu.eus/ccwintco/uploads/6/67/Indian_pines_corrected.mat http://www.ehu.eus/ccwintco/uploads/c/c4/Indian_pines_gt.mat\n",
        "    data = loadmat(\"Indian_pines_corrected.mat\")['indian_pines_corrected']\n",
        "    gt = loadmat(\"Indian_pines_gt.mat\")['indian_pines_gt']\n",
        "\n",
        "  if op == 2:\n",
        "    !wget http://www.ehu.eus/ccwintco/uploads/a/a3/Salinas_corrected.mat http://www.ehu.eus/ccwintco/uploads/f/fa/Salinas_gt.mat\n",
        "    data = loadmat('Salinas_corrected.mat')['salinas_corrected']\n",
        "    gt = loadmat('Salinas_gt.mat')['salinas_gt']\n",
        "\n",
        "# Pavia center\n",
        "  if op == 3:\n",
        "    !wget http://www.ehu.eus/ccwintco/uploads/e/e3/Pavia.mat http://www.ehu.eus/ccwintco/uploads/5/53/Pavia_gt.mat\n",
        "    data = loadmat('Pavia.mat')['pavia']\n",
        "    gt = loadmat('Pavia_gt.mat')['pavia_gt']\n",
        "\n",
        "# Pavia University\n",
        "  if op == 4:\n",
        "    !wget http://www.ehu.eus/ccwintco/uploads/e/ee/PaviaU.mat http://www.ehu.eus/ccwintco/uploads/5/50/PaviaU_gt.mat\n",
        "    data = loadmat('PaviaU.mat')['paviaU']\n",
        "    gt = loadmat('PaviaU_gt.mat')['paviaU_gt']\n",
        "\n",
        "    \n",
        "  return data, gt\n",
        "  \n",
        "data, gt = load_dataset(op)\n",
        "data.shape"
      ],
      "execution_count": null,
      "outputs": [
        {
          "output_type": "stream",
          "name": "stdout",
          "text": [
            "--2022-01-22 01:59:04--  http://www.ehu.eus/ccwintco/uploads/a/a3/Salinas_corrected.mat\n",
            "Resolving www.ehu.eus (www.ehu.eus)... 158.227.0.65, 2001:720:1410::65\n",
            "Connecting to www.ehu.eus (www.ehu.eus)|158.227.0.65|:80... connected.\n",
            "HTTP request sent, awaiting response... 200 OK\n",
            "Length: 26552770 (25M)\n",
            "Saving to: ‘Salinas_corrected.mat’\n",
            "\n",
            "Salinas_corrected.m 100%[===================>]  25.32M   328KB/s    in 82s     \n",
            "\n",
            "2022-01-22 02:00:27 (317 KB/s) - ‘Salinas_corrected.mat’ saved [26552770/26552770]\n",
            "\n",
            "--2022-01-22 02:00:27--  http://www.ehu.eus/ccwintco/uploads/f/fa/Salinas_gt.mat\n",
            "Connecting to www.ehu.eus (www.ehu.eus)|158.227.0.65|:80... connected.\n",
            "HTTP request sent, awaiting response... 200 OK\n",
            "Length: 4277 (4.2K)\n",
            "Saving to: ‘Salinas_gt.mat’\n",
            "\n",
            "Salinas_gt.mat      100%[===================>]   4.18K  --.-KB/s    in 0s      \n",
            "\n",
            "2022-01-22 02:00:27 (698 MB/s) - ‘Salinas_gt.mat’ saved [4277/4277]\n",
            "\n",
            "FINISHED --2022-01-22 02:00:27--\n",
            "Total wall clock time: 1m 24s\n",
            "Downloaded: 2 files, 25M in 1m 22s (317 KB/s)\n"
          ]
        },
        {
          "output_type": "execute_result",
          "data": {
            "text/plain": [
              "(512, 217, 204)"
            ]
          },
          "metadata": {},
          "execution_count": 18
        }
      ]
    },
    {
      "cell_type": "code",
      "metadata": {
        "colab": {
          "base_uri": "https://localhost:8080/"
        },
        "id": "jaodCWWS6ZsI",
        "outputId": "4eb4fbb1-dbe1-4d35-db0d-3befa742885e"
      },
      "source": [
        "data.shape"
      ],
      "execution_count": null,
      "outputs": [
        {
          "output_type": "execute_result",
          "data": {
            "text/plain": [
              "(512, 217, 204)"
            ]
          },
          "metadata": {},
          "execution_count": 19
        }
      ]
    },
    {
      "cell_type": "code",
      "source": [
        "gt.shape"
      ],
      "metadata": {
        "colab": {
          "base_uri": "https://localhost:8080/"
        },
        "id": "40XgS1qDX5W3",
        "outputId": "905702ec-9c5d-449f-b1e3-0c59ce5edeec"
      },
      "execution_count": null,
      "outputs": [
        {
          "output_type": "execute_result",
          "data": {
            "text/plain": [
              "(512, 217)"
            ]
          },
          "metadata": {},
          "execution_count": 20
        }
      ]
    },
    {
      "cell_type": "code",
      "metadata": {
        "id": "zhExruYwNOpE"
      },
      "source": [
        "# Reshape no dataset\n",
        "def reshape(df, gt):\n",
        "  bandas = df.shape[2]\n",
        "  df = pd.DataFrame(data.reshape(data.shape[0]*data.shape[1], -1))\n",
        "  df['class'] = gt.ravel()\n",
        "  # Exclusão de amostras desconhecidas\n",
        "  df_clean = df[df['class']!=0]\n",
        "  y = df_clean.iloc[:,-1]\n",
        "  X = df_clean.iloc[:, 0:bandas]\n",
        "  return X,y\n",
        "\n",
        "X,y = reshape(data, gt)"
      ],
      "execution_count": null,
      "outputs": []
    },
    {
      "cell_type": "code",
      "metadata": {
        "id": "38Yw5pma2JNW"
      },
      "source": [
        "def minmax(X):\n",
        "  normalized = minmax_scale(X, axis = 0)\n",
        "  return normalized\n",
        "\n",
        "X_scaled = minmax(X)"
      ],
      "execution_count": null,
      "outputs": []
    },
    {
      "cell_type": "code",
      "metadata": {
        "id": "GqZlwwQp20CU"
      },
      "source": [
        "X_train, X_test, y_train, y_test = train_test_split(X_scaled, y,stratify=y, test_size=0.30)"
      ],
      "execution_count": null,
      "outputs": []
    },
    {
      "cell_type": "code",
      "metadata": {
        "id": "Y0sSaLTeO0gL"
      },
      "source": [
        "knn = KNeighborsClassifier(n_neighbors=5)"
      ],
      "execution_count": null,
      "outputs": []
    },
    {
      "cell_type": "code",
      "metadata": {
        "colab": {
          "base_uri": "https://localhost:8080/"
        },
        "id": "YVNs3ElFO2vg",
        "outputId": "5b992ee6-df20-4e61-baad-5fbe4c9ce1c5"
      },
      "source": [
        "knn.fit(X_train, y_train)"
      ],
      "execution_count": null,
      "outputs": [
        {
          "output_type": "execute_result",
          "data": {
            "text/plain": [
              "KNeighborsClassifier()"
            ]
          },
          "metadata": {},
          "execution_count": 25
        }
      ]
    },
    {
      "cell_type": "code",
      "metadata": {
        "id": "gl_j4tIzO6jV"
      },
      "source": [
        "y_pred = knn.predict(X_test)"
      ],
      "execution_count": null,
      "outputs": []
    },
    {
      "cell_type": "code",
      "metadata": {
        "colab": {
          "base_uri": "https://localhost:8080/"
        },
        "id": "lssuH8uQPHKr",
        "outputId": "2be8c913-00af-4880-a73d-3f29e0ffab0a"
      },
      "source": [
        "print(classification_report(y_test, y_pred,))"
      ],
      "execution_count": null,
      "outputs": [
        {
          "output_type": "stream",
          "name": "stdout",
          "text": [
            "              precision    recall  f1-score   support\n",
            "\n",
            "           1       1.00      0.99      1.00       603\n",
            "           2       0.99      1.00      1.00      1118\n",
            "           3       0.95      0.99      0.97       593\n",
            "           4       0.99      1.00      0.99       418\n",
            "           5       0.99      0.99      0.99       803\n",
            "           6       1.00      1.00      1.00      1188\n",
            "           7       1.00      1.00      1.00      1074\n",
            "           8       0.78      0.82      0.80      3381\n",
            "           9       1.00      1.00      1.00      1861\n",
            "          10       0.96      0.94      0.95       983\n",
            "          11       0.97      0.97      0.97       320\n",
            "          12       0.98      1.00      0.99       578\n",
            "          13       0.98      0.99      0.98       275\n",
            "          14       0.98      0.98      0.98       321\n",
            "          15       0.70      0.63      0.67      2181\n",
            "          16       0.99      0.99      0.99       542\n",
            "\n",
            "    accuracy                           0.91     16239\n",
            "   macro avg       0.95      0.95      0.95     16239\n",
            "weighted avg       0.91      0.91      0.91     16239\n",
            "\n"
          ]
        }
      ]
    },
    {
      "cell_type": "code",
      "metadata": {
        "id": "wHT9MC__PUQd",
        "colab": {
          "base_uri": "https://localhost:8080/"
        },
        "outputId": "40789977-de44-4726-8c78-8249a6323ef0"
      },
      "source": [
        "print(confusion_matrix(y_test, y_pred))"
      ],
      "execution_count": null,
      "outputs": [
        {
          "output_type": "stream",
          "name": "stdout",
          "text": [
            "[[ 598    5    0    0    0    0    0    0    0    0    0    0    0    0\n",
            "     0    0]\n",
            " [   0 1118    0    0    0    0    0    0    0    0    0    0    0    0\n",
            "     0    0]\n",
            " [   0    0  589    0    4    0    0    0    0    0    0    0    0    0\n",
            "     0    0]\n",
            " [   0    0    0  416    2    0    0    0    0    0    0    0    0    0\n",
            "     0    0]\n",
            " [   0    0    5    4  793    0    0    0    0    0    1    0    0    0\n",
            "     0    0]\n",
            " [   0    1    0    0    0 1187    0    0    0    0    0    0    0    0\n",
            "     0    0]\n",
            " [   0    0    0    0    1    0 1071    1    0    0    0    0    0    1\n",
            "     0    0]\n",
            " [   0    0    0    0    0    0    0 2780    0   24    0    0    1    1\n",
            "   574    1]\n",
            " [   0    0    0    0    0    0    0    0 1859    2    0    0    0    0\n",
            "     0    0]\n",
            " [   0    0   18    0    1    0    0    7    9  923    9   11    0    1\n",
            "     2    2]\n",
            " [   0    0    6    0    0    0    0    0    0    0  312    2    0    0\n",
            "     0    0]\n",
            " [   0    0    0    0    0    0    0    0    0    1    0  577    0    0\n",
            "     0    0]\n",
            " [   0    0    0    0    0    0    0    0    0    0    0    0  271    4\n",
            "     0    0]\n",
            " [   0    0    0    0    0    0    0    3    0    0    0    0    4  314\n",
            "     0    0]\n",
            " [   0    0    0    0    0    0    0  790    0   13    0    0    0    0\n",
            "  1377    1]\n",
            " [   0    0    0    0    0    0    0    0    0    0    0    0    0    0\n",
            "     7  535]]\n"
          ]
        }
      ]
    },
    {
      "cell_type": "code",
      "source": [
        "print('Classification report:\\n',classification_report(y_test,y_pred))"
      ],
      "metadata": {
        "id": "_LemJCOS_hgi",
        "outputId": "91b4b189-a7e2-43a1-f74d-5546b7b0ce79",
        "colab": {
          "base_uri": "https://localhost:8080/"
        }
      },
      "execution_count": null,
      "outputs": [
        {
          "output_type": "stream",
          "name": "stdout",
          "text": [
            "Classification report:\n",
            "               precision    recall  f1-score   support\n",
            "\n",
            "           1       1.00      0.99      1.00       603\n",
            "           2       0.99      1.00      1.00      1118\n",
            "           3       0.95      0.99      0.97       593\n",
            "           4       0.99      1.00      0.99       418\n",
            "           5       0.99      0.99      0.99       803\n",
            "           6       1.00      1.00      1.00      1188\n",
            "           7       1.00      1.00      1.00      1074\n",
            "           8       0.78      0.82      0.80      3381\n",
            "           9       1.00      1.00      1.00      1861\n",
            "          10       0.96      0.94      0.95       983\n",
            "          11       0.97      0.97      0.97       320\n",
            "          12       0.98      1.00      0.99       578\n",
            "          13       0.98      0.99      0.98       275\n",
            "          14       0.98      0.98      0.98       321\n",
            "          15       0.70      0.63      0.67      2181\n",
            "          16       0.99      0.99      0.99       542\n",
            "\n",
            "    accuracy                           0.91     16239\n",
            "   macro avg       0.95      0.95      0.95     16239\n",
            "weighted avg       0.91      0.91      0.91     16239\n",
            "\n"
          ]
        }
      ]
    },
    {
      "cell_type": "code",
      "metadata": {
        "id": "s99Ydh0ZnsA3",
        "colab": {
          "base_uri": "https://localhost:8080/",
          "height": 111
        },
        "outputId": "d4ca6dba-c769-4f24-82cf-4783bf630513"
      },
      "source": [
        "#import  seaborn as sns\n",
        "\"\"\"\n",
        "if op==2:\n",
        "  names =['Brocoli_green_weeds_1',\n",
        "  'Brocoli_green_weeds_2',\n",
        "  'Fallow',\n",
        "  'Fallow_rough_plow',\n",
        "  'Fallow_smooth',\n",
        "  'Stubble',\n",
        "  'Celery',\n",
        "  'Grapes_untrained',\n",
        "  'Soil_vinyard_develop',\n",
        "  'Corn_senesced_green_weeds',\n",
        "  'Lettuce_romaine_4wk',\n",
        "  'Lettuce_romaine_5wk',\n",
        "  'Lettuce_romaine_6wk',\n",
        "  'Lettuce_romaine_7wk',\n",
        "  'Vinyard_untrained',\n",
        "  'Vinyard_vertical_trellis' ]\n",
        "  data = confusion_matrix(y_test, y_pred)\n",
        "  df_cm = pd.DataFrame(data, columns=np.unique(names), index = np.unique(names))\n",
        "  df_cm.index.name = 'Actual'\n",
        "  df_cm.columns.name = 'Predicted'\n",
        "\n",
        "  plt.figure(figsize = (12,10))\n",
        "  sns.set(font_scale=1.4)#for label size\n",
        "  sns.heatmap(df_cm, cmap=\"Reds\", annot=True,annot_kws={\"size\": 16}, fmt='d')\n",
        "  \"\"\"\n"
      ],
      "execution_count": null,
      "outputs": [
        {
          "output_type": "execute_result",
          "data": {
            "application/vnd.google.colaboratory.intrinsic+json": {
              "type": "string"
            },
            "text/plain": [
              "'\\nif op==2:\\n  names =[\\'Brocoli_green_weeds_1\\',\\n  \\'Brocoli_green_weeds_2\\',\\n  \\'Fallow\\',\\n  \\'Fallow_rough_plow\\',\\n  \\'Fallow_smooth\\',\\n  \\'Stubble\\',\\n  \\'Celery\\',\\n  \\'Grapes_untrained\\',\\n  \\'Soil_vinyard_develop\\',\\n  \\'Corn_senesced_green_weeds\\',\\n  \\'Lettuce_romaine_4wk\\',\\n  \\'Lettuce_romaine_5wk\\',\\n  \\'Lettuce_romaine_6wk\\',\\n  \\'Lettuce_romaine_7wk\\',\\n  \\'Vinyard_untrained\\',\\n  \\'Vinyard_vertical_trellis\\' ]\\n  data = confusion_matrix(y_test, y_pred)\\n  df_cm = pd.DataFrame(data, columns=np.unique(names), index = np.unique(names))\\n  df_cm.index.name = \\'Actual\\'\\n  df_cm.columns.name = \\'Predicted\\'\\n\\n  plt.figure(figsize = (12,10))\\n  sns.set(font_scale=1.4)#for label size\\n  sns.heatmap(df_cm, cmap=\"Reds\", annot=True,annot_kws={\"size\": 16}, fmt=\\'d\\')\\n  '"
            ]
          },
          "metadata": {},
          "execution_count": 30
        }
      ]
    }
  ]
}